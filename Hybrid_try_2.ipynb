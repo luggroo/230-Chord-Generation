{
 "cells": [
  {
   "cell_type": "code",
   "execution_count": 1,
   "metadata": {},
   "outputs": [],
   "source": [
    "%matplotlib inline"
   ]
  },
  {
   "cell_type": "code",
   "execution_count": 2,
   "metadata": {},
   "outputs": [
    {
     "data": {
      "text/plain": [
       "<torch._C.Generator at 0x7f66bdc1f3f0>"
      ]
     },
     "execution_count": 2,
     "metadata": {},
     "output_type": "execute_result"
    }
   ],
   "source": [
    "# Author: Yulou Zhou\n",
    "\n",
    "import torch\n",
    "import torch.nn as nn\n",
    "import torch.nn.functional as F\n",
    "import torch.optim as optim\n",
    "import csv\n",
    "import glob\n",
    "import os\n",
    "import pandas as pd\n",
    "import numpy as np\n",
    "import csv\n",
    "from random import shuffle\n",
    "torch.manual_seed(1)"
   ]
  },
  {
   "cell_type": "code",
   "execution_count": 3,
   "metadata": {},
   "outputs": [],
   "source": [
    "path = ''\n",
    "note = {}\n",
    "files = glob.glob(os.path.join(path, '*.csv'))\n",
    "newvar = []\n",
    "\n",
    "windows = []\n",
    "for file in files:\n",
    "    with open(file, 'r') as f:\n",
    "        #print(file)\n",
    "        reader = csv.reader(f)\n",
    "        all_list = list(reader)\n",
    "        wsize = 64\n",
    "        for i in range(len(all_list) - wsize):\n",
    "            windpairs = all_list[i: i+wsize]\n",
    "            x = [element[0] for element in windpairs]\n",
    "            y = [element[1] for element in windpairs]\n",
    "            windows.append((['1', '3', '5'], x, y))"
   ]
  },
  {
   "cell_type": "code",
   "execution_count": 4,
   "metadata": {},
   "outputs": [
    {
     "name": "stdout",
     "output_type": "stream",
     "text": [
      "{'1': 1, '12': 12, '8': 8, '6': 6, '3': 3, '10': 10, '0': 0, '5': 5, '7': 7, '2': 2, '11': 11, '4': 4, '9': 9}\n"
     ]
    }
   ],
   "source": [
    "def prepare_sequence(seq, to_ix):\n",
    "    idxs = [to_ix[w] for w in seq]\n",
    "    #return idxs\n",
    "    return torch.tensor(idxs, dtype=torch.long)\n",
    "\n",
    "word_to_ix={}\n",
    "shuffle(windows)\n",
    "training_data = windows[:65536]\n",
    "for prev, sent, tags in windows:\n",
    "    for word in sent:\n",
    "        if word not in word_to_ix:\n",
    "            word_to_ix[word] = int(word)\n",
    "print(word_to_ix)\n",
    "tag_to_ix = word_to_ix\n",
    "\n",
    "\n",
    "# These will usually be more like 32 or 64 dimensional.\n",
    "# We will keep them small, so we can see how the weights change as we train.\n",
    "EMBEDDING_DIM = 6\n",
    "PREV_DIM = 3\n",
    "HIDDEN_DIM = 30"
   ]
  },
  {
   "cell_type": "markdown",
   "metadata": {},
   "source": [
    "Create the model:\n",
    "\n"
   ]
  },
  {
   "cell_type": "code",
   "execution_count": 5,
   "metadata": {},
   "outputs": [],
   "source": [
    "class LSTMTagger(nn.Module):\n",
    "\n",
    "    def __init__(self, batch_size, embedding_dim, hidden_dim, prev_dim, vocab_size, tagset_size):\n",
    "        super(LSTMTagger, self).__init__()\n",
    "        self.hidden_dim = hidden_dim\n",
    "\n",
    "        self.word_embeddings = nn.Embedding(vocab_size, embedding_dim)\n",
    "        #self.chord_embeddings = nn.Embedding(vocab_size, hidden_dim)\n",
    "\n",
    "        # The LSTM takes word embeddings as inputs, and outputs hidden states\n",
    "        # with dimensionality hidden_dim.\n",
    "        self.lstm = nn.LSTM(embedding_dim, hidden_dim, batch_first=True)\n",
    "\n",
    "        # The linear layer that maps from hidden state space to tag space\n",
    "        self.hidden2tag = nn.Linear(hidden_dim, tagset_size)\n",
    "        self.hidden = self.init_hidden()\n",
    "\n",
    "    def init_hidden(self):\n",
    "        # Before we've done anything, we dont have any hidden state.\n",
    "        # Refer to the Pytorch documentation to see exactly\n",
    "        # why they have this dimensionality.\n",
    "        # The axes semantics are (num_layers, minibatch_size, hidden_dim)\n",
    "        return (Variable(torch.zeros(1, batch_size, self.hidden_dim)),\n",
    "                Variable(torch.zeros(1, batch_size, self.hidden_dim)))\n",
    "\n",
    "    def forward(self, sentence, prev):\n",
    "        embeds = self.word_embeddings(sentence)\n",
    "        #chords =  self.chord_embeddings(prev)\n",
    "        lstm_out, self.hidden = self.lstm(\n",
    "            embeds.transpose(0,1), self.hidden)\n",
    "        tag_space = self.hidden2tag(lstm_out.contiguous().view(len(sentence), batch_size, -1))\n",
    "        tag_scores = F.log_softmax(tag_space, dim=1)\n",
    "        return tag_scores"
   ]
  },
  {
   "cell_type": "markdown",
   "metadata": {},
   "source": [
    "Train the model:\n",
    "\n"
   ]
  },
  {
   "cell_type": "code",
   "execution_count": 6,
   "metadata": {
    "scrolled": false
   },
   "outputs": [
    {
     "name": "stdout",
     "output_type": "stream",
     "text": [
      "tensor(5.5462)\n",
      "tensor(5.5472)\n",
      "tensor(5.5467)\n",
      "tensor(5.5462)\n"
     ]
    },
    {
     "ename": "KeyboardInterrupt",
     "evalue": "",
     "output_type": "error",
     "traceback": [
      "\u001b[0;31m---------------------------------------------------------------------------\u001b[0m",
      "\u001b[0;31mKeyboardInterrupt\u001b[0m                         Traceback (most recent call last)",
      "\u001b[0;32m<ipython-input-6-c18575901098>\u001b[0m in \u001b[0;36m<module>\u001b[0;34m()\u001b[0m\n\u001b[1;32m     18\u001b[0m \u001b[0;34m\u001b[0m\u001b[0m\n\u001b[1;32m     19\u001b[0m \u001b[0;32mfor\u001b[0m \u001b[0mepoch\u001b[0m \u001b[0;32min\u001b[0m \u001b[0mrange\u001b[0m\u001b[0;34m(\u001b[0m\u001b[0;36m500\u001b[0m\u001b[0;34m)\u001b[0m\u001b[0;34m:\u001b[0m  \u001b[0;31m# again, normally you would NOT do 300 epochs, it is toy data\u001b[0m\u001b[0;34m\u001b[0m\u001b[0m\n\u001b[0;32m---> 20\u001b[0;31m     \u001b[0mshuffle\u001b[0m\u001b[0;34m(\u001b[0m\u001b[0mtraining_data\u001b[0m\u001b[0;34m)\u001b[0m\u001b[0;34m\u001b[0m\u001b[0m\n\u001b[0m\u001b[1;32m     21\u001b[0m     \u001b[0msentence_in\u001b[0m \u001b[0;34m=\u001b[0m \u001b[0;34m(\u001b[0m\u001b[0mtorch\u001b[0m\u001b[0;34m.\u001b[0m\u001b[0mstack\u001b[0m\u001b[0;34m(\u001b[0m\u001b[0;34m[\u001b[0m\u001b[0mprepare_sequence\u001b[0m\u001b[0;34m(\u001b[0m\u001b[0ma\u001b[0m\u001b[0;34m[\u001b[0m\u001b[0;36m1\u001b[0m\u001b[0;34m]\u001b[0m\u001b[0;34m,\u001b[0m \u001b[0mword_to_ix\u001b[0m\u001b[0;34m)\u001b[0m \u001b[0;32mfor\u001b[0m \u001b[0ma\u001b[0m \u001b[0;32min\u001b[0m \u001b[0mtraining_data\u001b[0m\u001b[0;34m[\u001b[0m\u001b[0;34m:\u001b[0m\u001b[0mbatch_size\u001b[0m\u001b[0;34m]\u001b[0m\u001b[0;34m]\u001b[0m\u001b[0;34m)\u001b[0m\u001b[0;34m)\u001b[0m\u001b[0;34m.\u001b[0m\u001b[0mtranspose\u001b[0m\u001b[0;34m(\u001b[0m\u001b[0;36m0\u001b[0m\u001b[0;34m,\u001b[0m\u001b[0;36m1\u001b[0m\u001b[0;34m)\u001b[0m\u001b[0;34m\u001b[0m\u001b[0m\n\u001b[1;32m     22\u001b[0m     \u001b[0;31m#print(sentence_in.size())\u001b[0m\u001b[0;34m\u001b[0m\u001b[0;34m\u001b[0m\u001b[0m\n",
      "\u001b[0;32m~/anaconda3/envs/nlu/lib/python3.6/random.py\u001b[0m in \u001b[0;36mshuffle\u001b[0;34m(self, x, random)\u001b[0m\n\u001b[1;32m    273\u001b[0m                 \u001b[0;31m# pick an element in x[:i+1] with which to exchange x[i]\u001b[0m\u001b[0;34m\u001b[0m\u001b[0;34m\u001b[0m\u001b[0m\n\u001b[1;32m    274\u001b[0m                 \u001b[0mj\u001b[0m \u001b[0;34m=\u001b[0m \u001b[0mrandbelow\u001b[0m\u001b[0;34m(\u001b[0m\u001b[0mi\u001b[0m\u001b[0;34m+\u001b[0m\u001b[0;36m1\u001b[0m\u001b[0;34m)\u001b[0m\u001b[0;34m\u001b[0m\u001b[0m\n\u001b[0;32m--> 275\u001b[0;31m                 \u001b[0mx\u001b[0m\u001b[0;34m[\u001b[0m\u001b[0mi\u001b[0m\u001b[0;34m]\u001b[0m\u001b[0;34m,\u001b[0m \u001b[0mx\u001b[0m\u001b[0;34m[\u001b[0m\u001b[0mj\u001b[0m\u001b[0;34m]\u001b[0m \u001b[0;34m=\u001b[0m \u001b[0mx\u001b[0m\u001b[0;34m[\u001b[0m\u001b[0mj\u001b[0m\u001b[0;34m]\u001b[0m\u001b[0;34m,\u001b[0m \u001b[0mx\u001b[0m\u001b[0;34m[\u001b[0m\u001b[0mi\u001b[0m\u001b[0;34m]\u001b[0m\u001b[0;34m\u001b[0m\u001b[0m\n\u001b[0m\u001b[1;32m    276\u001b[0m         \u001b[0;32melse\u001b[0m\u001b[0;34m:\u001b[0m\u001b[0;34m\u001b[0m\u001b[0m\n\u001b[1;32m    277\u001b[0m             \u001b[0m_int\u001b[0m \u001b[0;34m=\u001b[0m \u001b[0mint\u001b[0m\u001b[0;34m\u001b[0m\u001b[0m\n",
      "\u001b[0;31mKeyboardInterrupt\u001b[0m: "
     ]
    }
   ],
   "source": [
    "from torch.autograd import Variable\n",
    "\n",
    "batch_size = 256\n",
    "model = LSTMTagger(batch_size, EMBEDDING_DIM, HIDDEN_DIM, PREV_DIM, len(word_to_ix), len(tag_to_ix))\n",
    "loss_function = nn.NLLLoss()\n",
    "optimizer = optim.SGD(model.parameters(), lr=0.2)\n",
    "\n",
    "# See what the scores are before training\n",
    "# Note that element i,j of the output is the score for tag j for word i.\n",
    "# Here we don't need to train, so the code is wrapped in torch.no_grad()\n",
    "# with torch.no_grad():\n",
    "#     inputs = prepare_sequence(training_data[0][1], word_to_ix)\n",
    "#     prevs = prepare_sequence(training_data[0][0], word_to_ix)\n",
    "#     tag_scores = model(inputs, prevs)\n",
    "#     _, point = tag_scores.max(1)\n",
    "#     print(point)\n",
    "\n",
    "\n",
    "for epoch in range(500):  # again, normally you would NOT do 300 epochs, it is toy data\n",
    "    shuffle(training_data)\n",
    "    sentence_in = (torch.stack([prepare_sequence(a[1], word_to_ix) for a in training_data[:batch_size]])).transpose(0,1)\n",
    "    #print(sentence_in.size())\n",
    "    prevs_in = (torch.stack([prepare_sequence(a[0], word_to_ix) for a in training_data[:batch_size]])).transpose(0,1)\n",
    "    targets = (torch.stack([prepare_sequence(a[2], tag_to_ix) for a in training_data[:batch_size]])).transpose(0,1)\n",
    "    prevs_in, sentence_in, targets = Variable(prevs_in), Variable(sentence_in), Variable(targets)\n",
    "\n",
    "    model.zero_grad()\n",
    "        \n",
    "    model.hidden = model.init_hidden()\n",
    "    \n",
    "    tag_scores = model(sentence_in, prevs_in)\n",
    "    if epoch % 30 == 0:\n",
    "        #print(tag_scores.size())\n",
    "        _, point = tag_scores.max(2)\n",
    "        #print(\"point:\", point[0])\n",
    "        #print(\"pointt:\", (point.transpose(0,1))[0])\n",
    "\n",
    "    # Step 4. Compute the loss, gradients, and update the parameters by\n",
    "    #  calling optimizer.step()\n",
    "    #print((tag_scores.contiguous().view(-1, 13)).size(), (targets.contiguous().view(-1)).size())\n",
    "    loss = loss_function(tag_scores.contiguous().view(-1, 13), targets.contiguous().view(-1))\n",
    "    loss.backward()\n",
    "    optimizer.step()\n",
    "    \n",
    "    #TODO: modify according to https://cs230-stanford.github.io/pytorch-getting-started.html#training-vs-evaluation\n",
    "\n",
    "#     for prev, sentence, tags in training_data[:32]:\n",
    "        \n",
    "#         # Step 1. Remember that Pytorch accumulates gradients.\n",
    "#         # We need to clear them out before each instance\n",
    "#         model.zero_grad()\n",
    "        \n",
    "#         # Also, we need to clear out the hidden state of the LSTM,\n",
    "#         # detaching it from its history on the last instance.\n",
    "#         model.hidden = model.init_hidden()\n",
    "\n",
    "#         # Step 2. Get our inputs ready for the network, that is, turn them into\n",
    "#         # Tensors of word indices.\n",
    "#         sentence_in = prepare_sequence(sentence, word_to_ix)\n",
    "#         prevs_in = prepare_sequence(prev, word_to_ix)\n",
    "#             #print(\"prevs_in \", prevs_in)\n",
    "#         targets = prepare_sequence(tags, tag_to_ix)\n",
    "        \n",
    "#         # Step 3. Run our forward pass.\n",
    "#         tag_scores = model(sentence_in, prevs_in)\n",
    "\n",
    "#         # Step 4. Compute the loss, gradients, and update the parameters by\n",
    "#         #  calling optimizer.step()\n",
    "#         loss = loss_function(tag_scores, targets)\n",
    "#         loss.backward()\n",
    "#         optimizer.step()\n",
    "    if(epoch%30==0): print(loss)\n",
    "\n",
    "\n",
    "# See what the scores are after training\n",
    "# with torch.no_grad():\n",
    "#     inputs = prepare_sequence(training_data[0][0], word_to_ix)\n",
    "#     tag_scores = model(inputs)\n",
    "\n",
    "#     # The sentence is \"the dog ate the apple\".  i,j corresponds to score for tag j\n",
    "#     # for word i. The predicted tag is the maximum scoring tag.\n",
    "#     # Here, we can see the predicted sequence below is 0 1 2 0 1\n",
    "#     # since 0 is index of the maximum value of row 1,\n",
    "#     # 1 is the index of maximum value of row 2, etc.\n",
    "#     # Which is DET NOUN VERB DET NOUN, the correct sequence!\n",
    "#     _, point2 = tag_scores.max(1)\n",
    "#     print(point2)"
   ]
  },
  {
   "cell_type": "code",
   "execution_count": null,
   "metadata": {},
   "outputs": [],
   "source": [
    "accuracy = 0.0\n",
    "c = 0\n",
    "for i in range(100):\n",
    "    shuffle(training_data)\n",
    "    with torch.no_grad():\n",
    "        inputs = prepare_sequence(training_data[0][1], word_to_ix)\n",
    "        prevsa = prepare_sequence(training_data[0][0], word_to_ix)\n",
    "        tag_scores = model(inputs, prevsa)\n",
    "\n",
    "        # The sentence is \"the dog ate the apple\".  i,j corresponds to score for tag j\n",
    "        # for word i. The predicted tag is the maximum scoring tag.\n",
    "        # Here, we can see the predicted sequence below is 0 1 2 0 1\n",
    "        # since 0 is index of the maximum value of row 1,\n",
    "        # 1 is the index of maximum value of row 2, etc.\n",
    "        # Which is DET NOUN VERB DET NOUN, the correct sequence!\n",
    "        _, point2 = tag_scores.max(1)\n",
    "        #print(point2.tolist())\n",
    "\n",
    "    values, indices = tag_scores.max(1)\n",
    "    #print(training_data[0][0])\n",
    "    #print(training_data[0][1][10:20])\n",
    "    #print(training_data[0][2][10:20])\n",
    "    truth = np.array([int(a) for a in training_data[0][2]])\n",
    "    predicted = point2.numpy()\n",
    "    print(truth[:10], predicted[:10])\n",
    "    accuracy += np.average((truth == predicted))\n",
    "    c += 1\n",
    "print(accuracy/c)"
   ]
  }
 ],
 "metadata": {
  "kernelspec": {
   "display_name": "Python 3",
   "language": "python",
   "name": "python3"
  },
  "language_info": {
   "codemirror_mode": {
    "name": "ipython",
    "version": 3
   },
   "file_extension": ".py",
   "mimetype": "text/x-python",
   "name": "python",
   "nbconvert_exporter": "python",
   "pygments_lexer": "ipython3",
   "version": "3.6.4"
  }
 },
 "nbformat": 4,
 "nbformat_minor": 1
}
