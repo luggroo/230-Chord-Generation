{
 "cells": [
  {
   "cell_type": "code",
   "execution_count": 1,
   "metadata": {},
   "outputs": [],
   "source": [
    "%matplotlib inline"
   ]
  },
  {
   "cell_type": "code",
   "execution_count": 2,
   "metadata": {},
   "outputs": [
    {
     "name": "stdout",
     "output_type": "stream",
     "text": [
      "updated\n"
     ]
    },
    {
     "data": {
      "text/plain": [
       "<torch._C.Generator at 0x7f492669f4f0>"
      ]
     },
     "execution_count": 2,
     "metadata": {},
     "output_type": "execute_result"
    }
   ],
   "source": [
    "# Author: Yulou Zhou\n",
    "\n",
    "import torch\n",
    "import torch.nn as nn\n",
    "import torch.nn.functional as F\n",
    "import torch.optim as optim\n",
    "from torch.utils.data import Dataset, DataLoader\n",
    "import csv\n",
    "import glob\n",
    "import os\n",
    "import pandas as pd\n",
    "import numpy as np\n",
    "import csv\n",
    "from random import shuffle\n",
    "from MyDataset import MyDataset\n",
    "torch.manual_seed(1)"
   ]
  },
  {
   "cell_type": "code",
   "execution_count": 226,
   "metadata": {},
   "outputs": [
    {
     "name": "stdout",
     "output_type": "stream",
     "text": [
      "p:  tensor([[  0,   0,   0,  ...,   0,   0,   0],\n",
      "        [  0,   0,   0,  ...,   8,   4,   7],\n",
      "        [  0,   0,   0,  ...,   3,   4,   7],\n",
      "        ...,\n",
      "        [  8,   3,   7,  ...,  11,   4,   7],\n",
      "        [  1,   4,   7,  ...,   5,   3,   7],\n",
      "        [  6,   4,   7,  ...,   5,   3,   9]])\n",
      "m:  tensor([[  3,   3,   0,   0,   0,   0],\n",
      "        [ 12,  12,  12,  12,  12,  12],\n",
      "        [ 10,  10,  10,   8,   8,   8],\n",
      "        ...,\n",
      "        [  1,   1,   1,   1,   1,   1],\n",
      "        [  8,   8,   8,   8,   8,   8],\n",
      "        [  8,   8,   8,   8,   8,   8]])\n",
      "l:  tensor([[  8,   4,   7],\n",
      "        [  3,   4,   7],\n",
      "        [  1,   4,   7],\n",
      "        ...,\n",
      "        [  5,   3,   7],\n",
      "        [  5,   3,   9],\n",
      "        [  5,   3,   7]])\n"
     ]
    }
   ],
   "source": [
    "batch_size = 8192\n",
    "train_data = MyDataset('relativedata', prevchord = 4)\n",
    "data_loader = DataLoader(train_data, batch_size=batch_size, shuffle=False)\n",
    "c=0\n",
    "for i in data_loader:\n",
    "    print(\"p: \", i['p'])\n",
    "    print(\"m: \", i['m'])\n",
    "    #print(\"mask: \", i['mask'])\n",
    "    print(\"l: \", i['l'])\n",
    "    c += 10\n",
    "    if c > 0: break"
   ]
  },
  {
   "cell_type": "code",
   "execution_count": 227,
   "metadata": {},
   "outputs": [],
   "source": [
    "P_HIDDEN_DIM = 30\n",
    "M_HIDDEN_DIM = 30\n",
    "vocab_size = 13\n",
    "tagset_size = 13\n",
    "P_EMBEDDING_DIM = vocab_size\n",
    "M_EMBEDDING_DIM = vocab_size"
   ]
  },
  {
   "cell_type": "markdown",
   "metadata": {},
   "source": [
    "Create the model:\n",
    "\n"
   ]
  },
  {
   "cell_type": "code",
   "execution_count": 228,
   "metadata": {},
   "outputs": [],
   "source": [
    "class LSTMTagger(nn.Module):\n",
    "\n",
    "    def __init__(self, p_embed_dim, m_embed_dim, p_hidden_dim, m_hidden_dim, vocab_size, tagset_size, batch_size = 1):\n",
    "        super(LSTMTagger, self).__init__()\n",
    "        self.batch_size = batch_size\n",
    "        \n",
    "        self.p_embed_dim, self.m_embed_dim = p_embed_dim, m_embed_dim\n",
    "        #refer to https://discuss.pytorch.org/t/can-we-use-pre-trained-word-embeddings-for-weight-initialization-in-nn-embedding/1222/2\n",
    "        \n",
    "        self.p_embed = nn.Embedding(vocab_size, p_embed_dim)\n",
    "        self.m_embed = nn.Embedding(vocab_size, m_embed_dim)\n",
    "        self.p_embed.weight.data.copy_(torch.from_numpy(np.identity(vocab_size)))\n",
    "        self.m_embed.weight.data.copy_(torch.from_numpy(np.identity(vocab_size)))\n",
    "        \n",
    "        # The LSTM takes word embeddings as inputs, and outputs hidden states\n",
    "        # with dimensionality hidden_dim.\n",
    "        self.p_lstm = nn.LSTM(p_embed_dim, p_hidden_dim)\n",
    "        self.m_lstm = nn.LSTM(m_embed_dim, m_hidden_dim)\n",
    "        \n",
    "\n",
    "        # The linear layer that maps from hidden state space to tag space\n",
    "        self.hidden2tag = nn.Linear(p_hidden_dim + m_hidden_dim, tagset_size)\n",
    "        self.root2second = nn.Linear(p_hidden_dim + m_hidden_dim + 1, tagset_size)\n",
    "        self.root2third = nn.Linear(p_hidden_dim + m_hidden_dim + 1, tagset_size)\n",
    "        \n",
    "        self.p_hidden = self.init_hidden(p_hidden_dim)\n",
    "        self.m_hidden = self.init_hidden(m_hidden_dim)\n",
    "\n",
    "    def init_one_hot(self, vocab_size):\n",
    "        #initialize each embedding\n",
    "        #stack them together (or other ways to have  pretrained embeddings)\n",
    "        #pretrained_weight is a numpy matrix of shape (num_embeddings, embedding_dim)\n",
    "        #we should turn data into torch.from_numpy(pretrained_weight)\n",
    "        #embed.weight.data.copy_(torch.from_numpy(pretrained_weight))\n",
    "        \n",
    "        torch.tensor([word_to_ix[w] for w in context], dtype=torch.long)\n",
    "        \n",
    "    \n",
    "    def init_hidden(self, hidden_dim):\n",
    "        # Before we've done anything, we dont have any hidden state.\n",
    "        # Refer to the Pytorch documentation to see exactly\n",
    "        # why they have this dimensionality.\n",
    "        # The axes semantics are (num_layers, minibatch_size, hidden_dim)\n",
    "        return (torch.zeros(1, self.batch_size, hidden_dim),\n",
    "                torch.zeros(1, self.batch_size, hidden_dim))\n",
    "\n",
    "    def forward(self, prev, melody, mask):\n",
    "        \n",
    "        prev_embeds = self.p_embed(prev)\n",
    "        x1 = torch.transpose(prev_embeds, 0, 1) #TODO: DEBUG THIS LINE (probably the last batch)\n",
    "        \n",
    "        #TODO: ensure that melody input is a tensor\n",
    "        #print(\"prev\", prev_embeds.size())\n",
    "        #print(\"melody\", melody)\n",
    "        #melody = torch.LongTensor(list(melody))\n",
    "        \n",
    "        melody_embeds =  self.m_embed(melody) #Error here\n",
    "        x2 = torch.transpose(melody_embeds, 0, 1)\n",
    "        #print(\"embeddings:\", prev, x1, melody, x2)\n",
    "        \n",
    "        p_lstm_out, self.p_hidden = self.p_lstm(x1, self.p_hidden)\n",
    "        m_lstm_out, self.m_hidden = self.m_lstm(x2, self.m_hidden)\n",
    "        #print(p_lstm_out.size(), m_lstm_out.size())\n",
    "        \n",
    "        \n",
    "        p_fstate, m_fstate = p_lstm_out[-1], m_lstm_out[-1]\n",
    "\n",
    "        \n",
    "        #TODO: concatenate with extra information\n",
    "        concat = torch.cat((p_fstate, m_fstate), 1)\n",
    "        #TODO: increase output dimensions (How?)\n",
    "        tag_space = self.hidden2tag(concat) #REASON: you only need the final state\n",
    "        tag_scores = F.log_softmax(tag_space, dim = 1)\n",
    "        \n",
    "        #TODO: These are the two other notes\n",
    "\n",
    "        withroot = torch.cat((concat, tag_scores.max(1)[1].float().view(-1,1)), 1)\n",
    "        second = self.root2second(withroot)\n",
    "        third = self.root2third(withroot)\n",
    "        second_scores = F.log_softmax(second, dim=1)\n",
    "        third_scores = F.log_softmax(third, dim=1)\n",
    "        \n",
    "        #stacked = torch.stack([tag_scores, second_scores, third_scores], dim=0)\n",
    "\n",
    "        return [tag_scores, second_scores, third_scores]"
   ]
  },
  {
   "cell_type": "code",
   "execution_count": 229,
   "metadata": {},
   "outputs": [],
   "source": [
    "model = LSTMTagger(P_EMBEDDING_DIM, M_EMBEDDING_DIM, P_HIDDEN_DIM, M_HIDDEN_DIM, vocab_size, tagset_size, batch_size = batch_size)\n",
    "loss_function = nn.NLLLoss()\n",
    "optimizer = optim.SGD(model.parameters(), lr=0.2)"
   ]
  },
  {
   "cell_type": "markdown",
   "metadata": {},
   "source": [
    "Train the model:\n",
    "\n"
   ]
  },
  {
   "cell_type": "code",
   "execution_count": 230,
   "metadata": {
    "scrolled": true
   },
   "outputs": [
    {
     "name": "stdout",
     "output_type": "stream",
     "text": [
      "p, m, l tensor([[  0,   0,   0,  ...,   0,   0,   0],\n",
      "        [  0,   0,   0,  ...,   8,   4,   7],\n",
      "        [  0,   0,   0,  ...,   3,   4,   7],\n",
      "        ...,\n",
      "        [  8,   3,   7,  ...,  11,   4,   7],\n",
      "        [  1,   4,   7,  ...,   5,   3,   7],\n",
      "        [  6,   4,   7,  ...,   5,   3,   9]]) tensor([[  3,   3,   0,   0,   0,   0],\n",
      "        [ 12,  12,  12,  12,  12,  12],\n",
      "        [ 10,  10,  10,   8,   8,   8],\n",
      "        ...,\n",
      "        [  1,   1,   1,   1,   1,   1],\n",
      "        [  8,   8,   8,   8,   8,   8],\n",
      "        [  8,   8,   8,   8,   8,   8]]) tensor([[  8,   4,   7],\n",
      "        [  3,   4,   7],\n",
      "        [  1,   4,   7],\n",
      "        ...,\n",
      "        [  5,   3,   7],\n",
      "        [  5,   3,   9],\n",
      "        [  5,   3,   7]])\n",
      "[tensor([[-2.5754, -2.5606, -2.4873,  ..., -2.4397, -2.4540, -2.6342],\n",
      "        [-2.5711, -2.5593, -2.4452,  ..., -2.4356, -2.4918, -2.6417],\n",
      "        [-2.5674, -2.5370, -2.4404,  ..., -2.4366, -2.5646, -2.6141],\n",
      "        ...,\n",
      "        [-2.5666, -2.5624, -2.4522,  ..., -2.4312, -2.5279, -2.6012],\n",
      "        [-2.5693, -2.5285, -2.4453,  ..., -2.4309, -2.5759, -2.6145],\n",
      "        [-2.5690, -2.5311, -2.4562,  ..., -2.4491, -2.5884, -2.6362]]), tensor([[-2.2729, -2.5383, -2.8031,  ..., -2.9896, -2.8069, -2.3777],\n",
      "        [-2.2699, -2.5578, -2.7984,  ..., -3.0143, -2.8066, -2.3251],\n",
      "        [-1.7627, -2.6431, -3.7946,  ..., -4.1327, -3.2304, -2.2127],\n",
      "        ...,\n",
      "        [-2.2347, -2.5383, -2.7839,  ..., -3.0232, -2.7897, -2.3507],\n",
      "        [-1.7683, -2.6308, -3.8013,  ..., -4.1245, -3.2295, -2.2192],\n",
      "        [-1.7535, -2.6468, -3.7698,  ..., -4.1070, -3.2244, -2.2215]]), tensor([[-2.3897, -2.5615, -2.8681,  ..., -2.9120, -2.2476, -2.3380],\n",
      "        [-2.3550, -2.5810, -2.8119,  ..., -2.8543, -2.2903, -2.3695],\n",
      "        [-1.9476, -2.5466, -3.6109,  ..., -3.8671, -1.8494, -2.1961],\n",
      "        ...,\n",
      "        [-2.3480, -2.5457, -2.8120,  ..., -2.8140, -2.2862, -2.4057],\n",
      "        [-1.9457, -2.5376, -3.6165,  ..., -3.8718, -1.8506, -2.1952],\n",
      "        [-1.9667, -2.5563, -3.5917,  ..., -3.9076, -1.8476, -2.1903]])]\n"
     ]
    }
   ],
   "source": [
    "with torch.no_grad():\n",
    "    for i in data_loader:\n",
    "        p, m, l, mask = i['p'], i['m'], i['l'], i['mask']\n",
    "        print(\"p, m, l\", p, m, l)\n",
    "        tag_scores = model(p, m, mask)\n",
    "        print(tag_scores)\n",
    "        break\n",
    "    "
   ]
  },
  {
   "cell_type": "code",
   "execution_count": 231,
   "metadata": {
    "scrolled": true
   },
   "outputs": [
    {
     "name": "stdout",
     "output_type": "stream",
     "text": [
      "0 tensor(3.4071)\n",
      "10 tensor(3.0655)\n",
      "20 tensor(2.8269)\n",
      "30 tensor(2.6625)\n",
      "40 tensor(2.5621)\n",
      "50 tensor(2.5033)\n",
      "60 tensor(2.4683)\n",
      "70 tensor(2.4479)\n",
      "80 tensor(2.4336)\n",
      "90 tensor(2.4236)\n",
      "100 tensor(2.4164)\n",
      "110 tensor(2.4113)\n",
      "120 tensor(2.4074)\n",
      "130 tensor(2.4043)\n",
      "140 tensor(2.4018)\n",
      "150 tensor(2.3997)\n",
      "160 tensor(2.3981)\n",
      "170 tensor(2.3964)\n",
      "180 tensor(2.3956)\n",
      "190 tensor(2.3946)\n",
      "200 tensor(2.3936)\n",
      "210 tensor(2.3922)\n",
      "220 tensor(2.3907)\n",
      "230 tensor(2.3893)\n",
      "240 tensor(2.3881)\n",
      "250 tensor(2.3865)\n",
      "260 tensor(2.3846)\n",
      "270 tensor(2.3844)\n",
      "280 tensor(2.3844)\n",
      "290 tensor(2.3820)\n",
      "300 tensor(2.3800)\n",
      "310 tensor(2.3770)\n",
      "320 tensor(2.3737)\n",
      "330 tensor(2.3710)\n",
      "340 tensor(2.3680)\n",
      "350 tensor(2.3680)\n",
      "360 tensor(2.3631)\n",
      "370 tensor(2.3587)\n",
      "380 tensor(2.3525)\n",
      "390 tensor(2.3523)\n"
     ]
    }
   ],
   "source": [
    "for epoch in range(400):  # again, normally you would NOT do 300 epochs, it is toy data\n",
    "    for i in data_loader:\n",
    "        # Step 1. Remember that Pytorch accumulates gradients.\n",
    "        # We need to clear them out before each instance\n",
    "        model.zero_grad()\n",
    "\n",
    "        # Also, we need to clear out the hidden state of the LSTM,\n",
    "        # detaching it from its history on the last instance.\n",
    "        model.p_hidden = model.init_hidden(P_HIDDEN_DIM)\n",
    "        model.m_hidden = model.init_hidden(M_HIDDEN_DIM)\n",
    "\n",
    "        # Step 2. Get our inputs ready for the network, that is, turn them into\n",
    "        # Tensors of word indices.\n",
    "        p, m, l, mask = i['p'], i['m'], i['l'], i['mask']\n",
    "        #print(m)\n",
    "        tag_scores = model(p, m, mask)\n",
    "        # Step 3. Run our forward pass.\n",
    "\n",
    "        # Step 4. Compute the loss, gradients, and update the parameters by\n",
    "        #  calling optimizer.step()\n",
    "        #print(targets[:1])\n",
    "        loss = 0\n",
    "        \n",
    "        for i in range(len(tag_scores)):\n",
    "            loss += 1/((i+1) ** 2) * loss_function(tag_scores[i], torch.t(l)[i])   \n",
    "        #loss = loss_function(tag_scores[0], l.view(-1, batch_size)[0])\n",
    "        #loss = loss_function(tag_scores, l.view(-1, batch_size))\n",
    "        loss.backward()\n",
    "        optimizer.step()\n",
    "        break\n",
    "    if(epoch % 10==0): print(epoch, loss)\n",
    "\n",
    "\n",
    "# See what the scores are after training\n",
    "# with torch.no_grad():\n",
    "#     inputs = prepare_sequence(training_data[0][0], word_to_ix)\n",
    "#     tag_scores = model(inputs)\n",
    "\n",
    "#     # The sentence is \"the dog ate the apple\".  i,j corresponds to score for tag j\n",
    "#     # for word i. The predicted tag is the maximum scoring tag.\n",
    "#     # Here, we can see the predicted sequence below is 0 1 2 0 1\n",
    "#     # since 0 is index of the maximum value of row 1,\n",
    "#     # 1 is the index of maximum value of row 2, etc.\n",
    "#     # Which is DET NOUN VERB DET NOUN, the correct sequence!\n",
    "#     _, point2 = tag_scores.max(1)\n",
    "#     print(point2)"
   ]
  },
  {
   "cell_type": "code",
   "execution_count": 246,
   "metadata": {},
   "outputs": [
    {
     "name": "stdout",
     "output_type": "stream",
     "text": [
      "[8 8 1 8 8 8 8 8 8 8 8 8 8 8 8 8 8 8 8 8] [8 8 1 1 8 8 8 8 3 3 8 3 1 1 3 8 3 3 3 8]\n",
      "[8 8 8 8 8 8 1 8 1 8 1 1 8 8 1 8 8 8 6 8] [10  3  8  1  1  1  1  1  1  1  3  6  6  6  3  8  8  3  7  8]\n",
      "[1 8 8 8 8 8 8 8 8 8 8 8 8 8 8 8 8 1 8 8] [ 3  8  1  2  3  8  1 10  3  3  3  8  1  2  3  6  1  1  3  6]\n",
      "[8 8 8 1 8 8 8 1 8 8 1 1 8 8 8 1 8 8 8 8] [ 5 10  3  8  5 10  3  8  8 10 10 10 10 10 10 12  5  6  3  6]\n",
      "[8 8 8 8 8 8 8 8 8 1 1 1 8 8 8 8 6 6 6 8] [1 1 8 8 1 1 3 8 1 1 1 3 3 8 1 4 4 9 9 4]\n",
      "[1 1 8 8 8 1 8 8 8 8 8 8 8 8 8 8 8 1 1 8] [ 6  1  1  8  6  1  1  8  8  1 10  3  3  8  3  8  8  1 10  3]\n",
      "0.317413330078125\n"
     ]
    }
   ],
   "source": [
    "accuracy = 0.0\n",
    "c = 0\n",
    "#print(\"new\")\n",
    "for j in range(1):\n",
    "    for i in data_loader:\n",
    "        c+=1\n",
    "        p, m, l, mask = i['p'], i['m'], i['l'], i['mask']\n",
    "        tag_scores = model(p, m, mask)\n",
    "        #print(tag_scores[0].size())\n",
    "        pred = tag_scores[0].max(1)[1].numpy()\n",
    "        truth = torch.t(l)[0].numpy()\n",
    "        #print((3 == truth))\n",
    "        print(pred[30:50], truth[30:50])\n",
    "        accuracy += np.average(pred == truth)\n",
    "        if (c>5): break\n",
    "print(accuracy/4)"
   ]
  },
  {
   "cell_type": "code",
   "execution_count": null,
   "metadata": {},
   "outputs": [],
   "source": []
  }
 ],
 "metadata": {
  "kernelspec": {
   "display_name": "Python 3",
   "language": "python",
   "name": "python3"
  },
  "language_info": {
   "codemirror_mode": {
    "name": "ipython",
    "version": 3
   },
   "file_extension": ".py",
   "mimetype": "text/x-python",
   "name": "python",
   "nbconvert_exporter": "python",
   "pygments_lexer": "ipython3",
   "version": "3.6.4"
  }
 },
 "nbformat": 4,
 "nbformat_minor": 1
}
